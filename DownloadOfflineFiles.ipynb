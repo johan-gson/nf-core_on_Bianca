{
  "nbformat": 4,
  "nbformat_minor": 0,
  "metadata": {
    "colab": {
      "name": "Untitled0.ipynb",
      "provenance": [],
      "authorship_tag": "ABX9TyP5zU9m1YH63w6V0BKaSdVD",
      "include_colab_link": true
    },
    "kernelspec": {
      "name": "python3",
      "display_name": "Python 3"
    }
  },
  "cells": [
    {
      "cell_type": "markdown",
      "metadata": {
        "id": "view-in-github",
        "colab_type": "text"
      },
      "source": [
        "<a href=\"https://colab.research.google.com/github/johan-gson/nf-core_on_Bianca/blob/main/DownloadOfflineFiles.ipynb\" target=\"_parent\"><img src=\"https://colab.research.google.com/assets/colab-badge.svg\" alt=\"Open In Colab\"/></a>"
      ]
    },
    {
      "cell_type": "code",
      "metadata": {
        "id": "RnDtEc97ibuX",
        "outputId": "87118ac1-fd21-4cf4-c647-b3770cd85591",
        "colab": {
          "base_uri": "https://localhost:8080/"
        }
      },
      "source": [
        "!wget -qO- https://get.nextflow.io | bash"
      ],
      "execution_count": 1,
      "outputs": [
        {
          "output_type": "stream",
          "text": [
            "CAPSULE: Downloading dependency org.slf4j:log4j-over-slf4j:jar:1.7.25\n",
            "CAPSULE: Downloading dependency org.multiverse:multiverse-core:jar:0.7.0\n",
            "CAPSULE: Downloading dependency com.fasterxml.jackson.core:jackson-databind:jar:2.6.7.2\n",
            "CAPSULE: Downloading dependency com.amazonaws:aws-java-sdk-batch:jar:1.11.542\n",
            "CAPSULE: Downloading dependency io.nextflow:nf-httpfs:jar:20.10.0\n",
            "CAPSULE: Downloading dependency joda-time:joda-time:jar:2.8.1\n",
            "CAPSULE: Downloading dependency com.beust:jcommander:jar:1.35\n",
            "CAPSULE: Downloading dependency io.nextflow:nf-commons:jar:20.10.0\n",
            "CAPSULE: Downloading dependency org.jsoup:jsoup:jar:1.11.2\n",
            "CAPSULE: Downloading dependency ch.grengine:grengine:jar:1.3.0\n",
            "CAPSULE: Downloading dependency jline:jline:jar:2.9\n",
            "CAPSULE: Downloading dependency org.codehaus.groovy:groovy-nio:jar:3.0.5\n",
            "CAPSULE: Downloading dependency javax.mail:mail:jar:1.4.7\n",
            "CAPSULE: Downloading dependency org.slf4j:jul-to-slf4j:jar:1.7.25\n",
            "CAPSULE: Downloading dependency org.apache.httpcomponents:httpcore:jar:4.4.9\n",
            "CAPSULE: Downloading dependency com.fasterxml.jackson.core:jackson-core:jar:2.6.7\n",
            "CAPSULE: Downloading dependency ch.qos.logback:logback-classic:jar:1.1.11\n",
            "CAPSULE: Downloading dependency org.iq80.leveldb:leveldb-api:jar:0.12\n",
            "CAPSULE: Downloading dependency org.codehaus.gpars:gpars:jar:1.2.1\n",
            "CAPSULE: Downloading dependency com.esotericsoftware.kryo:kryo:jar:2.24.0\n",
            "CAPSULE: Downloading dependency com.amazonaws:aws-java-sdk-ec2:jar:1.11.542\n",
            "CAPSULE: Downloading dependency org.apache.ivy:ivy:jar:2.3.0\n",
            "CAPSULE: Downloading dependency com.googlecode.javaewah:JavaEWAH:jar:1.1.6\n",
            "CAPSULE: Downloading dependency org.codehaus.groovy:groovy-json:jar:3.0.5\n",
            "CAPSULE: Downloading dependency io.nextflow:nextflow:jar:20.10.0\n",
            "CAPSULE: Downloading dependency javax.activation:activation:jar:1.1.1\n",
            "CAPSULE: Downloading dependency com.jcraft:jsch:jar:0.1.54\n",
            "CAPSULE: Downloading dependency com.jcraft:jzlib:jar:1.1.1\n",
            "CAPSULE: Downloading dependency org.codehaus.jsr166-mirror:jsr166y:jar:1.7.0\n",
            "CAPSULE: Downloading dependency org.slf4j:slf4j-api:jar:1.7.25\n",
            "CAPSULE: Downloading dependency org.apache.httpcomponents:httpclient:jar:4.5.5\n",
            "CAPSULE: Downloading dependency com.amazonaws:aws-java-sdk-s3:jar:1.11.542\n",
            "CAPSULE: Downloading dependency org.codehaus.groovy:groovy:jar:3.0.5\n",
            "CAPSULE: Downloading dependency com.amazonaws:aws-java-sdk-kms:jar:1.11.542\n",
            "CAPSULE: Downloading dependency com.amazonaws:aws-java-sdk-iam:jar:1.11.542\n",
            "CAPSULE: Downloading dependency ch.qos.logback:logback-core:jar:1.1.11\n",
            "CAPSULE: Downloading dependency com.fasterxml.jackson.dataformat:jackson-dataformat-cbor:jar:2.6.7\n",
            "CAPSULE: Downloading dependency io.nextflow:nf-tower:jar:20.10.0\n",
            "CAPSULE: Downloading dependency com.amazonaws:aws-java-sdk-core:jar:1.11.542\n",
            "CAPSULE: Downloading dependency commons-lang:commons-lang:jar:2.6\n",
            "CAPSULE: Downloading dependency software.amazon.ion:ion-java:jar:1.0.2\n",
            "CAPSULE: Downloading dependency org.codehaus.groovy:groovy-templates:jar:3.0.5\n",
            "CAPSULE: Downloading dependency org.codehaus.groovy:groovy-xml:jar:3.0.5\n",
            "CAPSULE: Downloading dependency org.objenesis:objenesis:jar:2.1\n",
            "CAPSULE: Downloading dependency org.yaml:snakeyaml:jar:1.18\n",
            "CAPSULE: Downloading dependency org.slf4j:jcl-over-slf4j:jar:1.7.25\n",
            "CAPSULE: Downloading dependency io.nextflow:nxf-s3fs:jar:1.0.8\n",
            "CAPSULE: Downloading dependency com.google.guava:guava:jar:21.0\n",
            "CAPSULE: Downloading dependency com.amazonaws:jmespath-java:jar:1.11.542\n",
            "CAPSULE: Downloading dependency org.iq80.leveldb:leveldb:jar:0.12\n",
            "CAPSULE: Downloading dependency io.nextflow:nf-amazon:jar:20.10.0\n",
            "CAPSULE: Downloading dependency com.amazonaws:aws-java-sdk-ecs:jar:1.11.542\n",
            "CAPSULE: Downloading dependency org.eclipse.jgit:org.eclipse.jgit:jar:5.2.1.201812262042-r\n",
            "CAPSULE: Downloading dependency com.fasterxml.jackson.core:jackson-annotations:jar:2.6.0\n",
            "CAPSULE: Downloading dependency commons-codec:commons-codec:jar:1.10\n",
            "\n",
            "      N E X T F L O W\n",
            "      version 20.10.0 build 5430\n",
            "      created 01-11-2020 15:14 UTC \n",
            "      cite doi:10.1038/nbt.3820\n",
            "      http://nextflow.io\n",
            "\n",
            "\n",
            "Nextflow installation completed. Please note:\n",
            "- the executable file `nextflow` has been created in the folder: /content\n",
            "- you may complete the installation by moving it to a directory in your $PATH\n",
            "\n"
          ],
          "name": "stdout"
        }
      ]
    },
    {
      "cell_type": "code",
      "metadata": {
        "id": "J-9fUzUZjLjc",
        "outputId": "37fd5478-c66a-406e-8653-f8dce5e8713b",
        "colab": {
          "base_uri": "https://localhost:8080/"
        }
      },
      "source": [
        "!mv nextflow /usr/local/bin/"
      ],
      "execution_count": 3,
      "outputs": [
        {
          "output_type": "stream",
          "text": [
            "mv: cannot stat 'nextflow': No such file or directory\n"
          ],
          "name": "stdout"
        }
      ]
    },
    {
      "cell_type": "code",
      "metadata": {
        "id": "vhWQWWVDMnzn",
        "outputId": "680f2b6d-0a3e-49d3-c389-814aff45b3bd",
        "colab": {
          "base_uri": "https://localhost:8080/",
          "height": 1000
        }
      },
      "source": [
        "!pip install nf-core"
      ],
      "execution_count": 4,
      "outputs": [
        {
          "output_type": "stream",
          "text": [
            "Collecting nf-core\n",
            "\u001b[?25l  Downloading https://files.pythonhosted.org/packages/1e/0e/58bde7e0395beb4bfa47001766e0e425c24b2605cc1a1b68947e8ab1be42/nf_core-1.11-py3-none-any.whl (120kB)\n",
            "\u001b[K     |████████████████████████████████| 122kB 2.8MB/s \n",
            "\u001b[?25hCollecting GitPython\n",
            "\u001b[?25l  Downloading https://files.pythonhosted.org/packages/24/d1/a7f8fe3df258549b303415157328bfcc63e9b11d06a7ad7a3327f3d32606/GitPython-3.1.11-py3-none-any.whl (159kB)\n",
            "\u001b[K     |████████████████████████████████| 163kB 8.6MB/s \n",
            "\u001b[?25hCollecting cookiecutter\n",
            "  Downloading https://files.pythonhosted.org/packages/95/83/83ebf950ec99b02c61719ccb116462844ba2e873df7c4d40afc962494312/cookiecutter-1.7.2-py2.py3-none-any.whl\n",
            "Requirement already satisfied: jsonschema in /usr/local/lib/python3.6/dist-packages (from nf-core) (2.6.0)\n",
            "Requirement already satisfied: jinja2 in /usr/local/lib/python3.6/dist-packages (from nf-core) (2.11.2)\n",
            "Requirement already satisfied: click in /usr/local/lib/python3.6/dist-packages (from nf-core) (7.1.2)\n",
            "Collecting PyInquirer==1.0.2\n",
            "  Downloading https://files.pythonhosted.org/packages/a1/d6/96bbc6eed40ef0b8b2dbe0da29a60130baff741091326760fb9f286a7929/PyInquirer-1.0.2.tar.gz\n",
            "Collecting requests-cache\n",
            "  Downloading https://files.pythonhosted.org/packages/7f/55/9b1c40eb83c16d8fc79c5f6c2ffade04208b080670fbfc35e0a5effb5a92/requests_cache-0.5.2-py2.py3-none-any.whl\n",
            "Requirement already satisfied: pyyaml in /usr/local/lib/python3.6/dist-packages (from nf-core) (3.13)\n",
            "Requirement already satisfied: tabulate in /usr/local/lib/python3.6/dist-packages (from nf-core) (0.8.7)\n",
            "Requirement already satisfied: requests in /usr/local/lib/python3.6/dist-packages (from nf-core) (2.23.0)\n",
            "Collecting rich>=9\n",
            "\u001b[?25l  Downloading https://files.pythonhosted.org/packages/9a/d9/f6982f742ba121625aa035f1cf454335c3f8a7de7d0ff34ef7e236d86575/rich-9.1.0-py3-none-any.whl (161kB)\n",
            "\u001b[K     |████████████████████████████████| 163kB 8.5MB/s \n",
            "\u001b[?25hCollecting gitdb<5,>=4.0.1\n",
            "\u001b[?25l  Downloading https://files.pythonhosted.org/packages/48/11/d1800bca0a3bae820b84b7d813ad1eff15a48a64caea9c823fc8c1b119e8/gitdb-4.0.5-py3-none-any.whl (63kB)\n",
            "\u001b[K     |████████████████████████████████| 71kB 5.8MB/s \n",
            "\u001b[?25hRequirement already satisfied: MarkupSafe<2.0.0 in /usr/local/lib/python3.6/dist-packages (from cookiecutter->nf-core) (1.1.1)\n",
            "Requirement already satisfied: python-slugify>=4.0.0 in /usr/local/lib/python3.6/dist-packages (from cookiecutter->nf-core) (4.0.1)\n",
            "Collecting jinja2-time>=0.2.0\n",
            "  Downloading https://files.pythonhosted.org/packages/6a/a1/d44fa38306ffa34a7e1af09632b158e13ec89670ce491f8a15af3ebcb4e4/jinja2_time-0.2.0-py2.py3-none-any.whl\n",
            "Collecting binaryornot>=0.4.4\n",
            "  Downloading https://files.pythonhosted.org/packages/24/7e/f7b6f453e6481d1e233540262ccbfcf89adcd43606f44a028d7f5fae5eb2/binaryornot-0.4.4-py2.py3-none-any.whl\n",
            "Requirement already satisfied: six>=1.10 in /usr/local/lib/python3.6/dist-packages (from cookiecutter->nf-core) (1.15.0)\n",
            "Collecting poyo>=0.5.0\n",
            "  Downloading https://files.pythonhosted.org/packages/42/50/0b0820601bde2eda403f47b9a4a1f270098ed0dd4c00c443d883164bdccc/poyo-0.5.0-py2.py3-none-any.whl\n",
            "Collecting prompt_toolkit==1.0.14\n",
            "\u001b[?25l  Downloading https://files.pythonhosted.org/packages/ee/3d/b25d35a9f0d381dd1c02d8e04b37c353caaaff4bc32150328eeebe4931f5/prompt_toolkit-1.0.14-py3-none-any.whl (248kB)\n",
            "\u001b[K     |████████████████████████████████| 256kB 8.8MB/s \n",
            "\u001b[?25hRequirement already satisfied: Pygments>=2.2.0 in /usr/local/lib/python3.6/dist-packages (from PyInquirer==1.0.2->nf-core) (2.6.1)\n",
            "Requirement already satisfied: regex>=2016.11.21 in /usr/local/lib/python3.6/dist-packages (from PyInquirer==1.0.2->nf-core) (2019.12.20)\n",
            "Requirement already satisfied: certifi>=2017.4.17 in /usr/local/lib/python3.6/dist-packages (from requests->nf-core) (2020.6.20)\n",
            "Requirement already satisfied: idna<3,>=2.5 in /usr/local/lib/python3.6/dist-packages (from requests->nf-core) (2.10)\n",
            "Requirement already satisfied: urllib3!=1.25.0,!=1.25.1,<1.26,>=1.21.1 in /usr/local/lib/python3.6/dist-packages (from requests->nf-core) (1.24.3)\n",
            "Requirement already satisfied: chardet<4,>=3.0.2 in /usr/local/lib/python3.6/dist-packages (from requests->nf-core) (3.0.4)\n",
            "Collecting commonmark<0.10.0,>=0.9.0\n",
            "\u001b[?25l  Downloading https://files.pythonhosted.org/packages/b1/92/dfd892312d822f36c55366118b95d914e5f16de11044a27cf10a7d71bbbf/commonmark-0.9.1-py2.py3-none-any.whl (51kB)\n",
            "\u001b[K     |████████████████████████████████| 51kB 5.3MB/s \n",
            "\u001b[?25hRequirement already satisfied: typing-extensions<4.0.0,>=3.7.4 in /usr/local/lib/python3.6/dist-packages (from rich>=9->nf-core) (3.7.4.3)\n",
            "Requirement already satisfied: dataclasses<0.8,>=0.7; python_version >= \"3.6\" and python_version < \"3.7\" in /usr/local/lib/python3.6/dist-packages (from rich>=9->nf-core) (0.7)\n",
            "Collecting colorama<0.5.0,>=0.4.0\n",
            "  Downloading https://files.pythonhosted.org/packages/44/98/5b86278fbbf250d239ae0ecb724f8572af1c91f4a11edf4d36a206189440/colorama-0.4.4-py2.py3-none-any.whl\n",
            "Collecting smmap<4,>=3.0.1\n",
            "  Downloading https://files.pythonhosted.org/packages/b0/9a/4d409a6234eb940e6a78dfdfc66156e7522262f5f2fecca07dc55915952d/smmap-3.0.4-py2.py3-none-any.whl\n",
            "Requirement already satisfied: text-unidecode>=1.3 in /usr/local/lib/python3.6/dist-packages (from python-slugify>=4.0.0->cookiecutter->nf-core) (1.3)\n",
            "Collecting arrow\n",
            "\u001b[?25l  Downloading https://files.pythonhosted.org/packages/ca/bc/ebc1afb3c54377e128a01024c006f983d03ee124bc52392b78ba98c421b8/arrow-0.17.0-py2.py3-none-any.whl (50kB)\n",
            "\u001b[K     |████████████████████████████████| 51kB 4.6MB/s \n",
            "\u001b[?25hRequirement already satisfied: wcwidth in /usr/local/lib/python3.6/dist-packages (from prompt_toolkit==1.0.14->PyInquirer==1.0.2->nf-core) (0.2.5)\n",
            "Requirement already satisfied: python-dateutil>=2.7.0 in /usr/local/lib/python3.6/dist-packages (from arrow->jinja2-time>=0.2.0->cookiecutter->nf-core) (2.8.1)\n",
            "Building wheels for collected packages: PyInquirer\n",
            "  Building wheel for PyInquirer (setup.py) ... \u001b[?25l\u001b[?25hdone\n",
            "  Created wheel for PyInquirer: filename=PyInquirer-1.0.2-cp36-none-any.whl size=21575 sha256=558647291e0ac3bfb86903bce99a66df9ce0ed28f900c3b435f58369855b6233\n",
            "  Stored in directory: /root/.cache/pip/wheels/5f/4f/8a/9357ae9c66f88b6007420eed44a37f475ed46cc23c2bd73b99\n",
            "Successfully built PyInquirer\n",
            "Installing collected packages: smmap, gitdb, GitPython, arrow, jinja2-time, binaryornot, poyo, cookiecutter, prompt-toolkit, PyInquirer, requests-cache, commonmark, colorama, rich, nf-core\n",
            "  Found existing installation: prompt-toolkit 1.0.18\n",
            "    Uninstalling prompt-toolkit-1.0.18:\n",
            "      Successfully uninstalled prompt-toolkit-1.0.18\n",
            "Successfully installed GitPython-3.1.11 PyInquirer-1.0.2 arrow-0.17.0 binaryornot-0.4.4 colorama-0.4.4 commonmark-0.9.1 cookiecutter-1.7.2 gitdb-4.0.5 jinja2-time-0.2.0 nf-core-1.11 poyo-0.5.0 prompt-toolkit-1.0.14 requests-cache-0.5.2 rich-9.1.0 smmap-3.0.4\n"
          ],
          "name": "stdout"
        },
        {
          "output_type": "display_data",
          "data": {
            "application/vnd.colab-display-data+json": {
              "pip_warning": {
                "packages": [
                  "prompt_toolkit"
                ]
              }
            }
          },
          "metadata": {
            "tags": []
          }
        }
      ]
    },
    {
      "cell_type": "code",
      "metadata": {
        "id": "jl87TyK9M9U2",
        "outputId": "5717ba9a-e0c9-47a7-9913-aea3990f2030",
        "colab": {
          "base_uri": "https://localhost:8080/"
        }
      },
      "source": [
        "!nf-core download rnaseq --singularity"
      ],
      "execution_count": 5,
      "outputs": [
        {
          "output_type": "stream",
          "text": [
            "\n",
            "\u001b[32m                                          ,--.\u001b[0m\u001b[90m/\u001b[0m\u001b[32m,-.\u001b[0m\n",
            "\u001b[34m          ___     __   __   __   ___     \u001b[0m\u001b[32m/,-._.--~\\\u001b[0m\n",
            "\u001b[34m    |\\ | |__  __ /  ` /  \\ |__) |__      \u001b[0m\u001b[33m   }  {\u001b[0m\n",
            "\u001b[34m    | \\| |       \\__, \\__/ |  \\ |___     \u001b[0m\u001b[32m\\`-._,-`-,\u001b[0m\n",
            "\u001b[32m                                          `._,._,'\u001b[0m\n",
            "\n",
            "\u001b[90m    nf-core/tools version 1.11\u001b[0m\n",
            "\n",
            "\n",
            "\n",
            "\u001b[34mINFO\u001b[0m      Saving rnaseq                                           \u001b]8;id=1604515177.5176804-117195;file:///usr/local/lib/python3.6/dist-packages/nf_core/download.py\u001b\\\u001b[2mdownload.py\u001b[0m\u001b]8;;\u001b\\\u001b[2m:81\u001b[0m\n",
            "           Pipeline release: \u001b[1;34m1.4\u001b[0m.\u001b[1;34m2\u001b[0m                                              \n",
            "           Pull singularity containers: Yes                                     \n",
            "           Output file: nf-core-rnaseq-\u001b[1;34m1.4\u001b[0m.\u001b[1;34m2.\u001b[0mtar.gz                             \n",
            "\u001b[34mINFO\u001b[0m      Downloading workflow files from GitHub                  \u001b]8;id=1604515177.5198283-96851;file:///usr/local/lib/python3.6/dist-packages/nf_core/download.py\u001b\\\u001b[2mdownload.py\u001b[0m\u001b]8;;\u001b\\\u001b[2m:85\u001b[0m\n",
            "\u001b[34mINFO\u001b[0m      Downloading centralised configs from GitHub             \u001b]8;id=1604515178.2291982-270991;file:///usr/local/lib/python3.6/dist-packages/nf_core/download.py\u001b\\\u001b[2mdownload.py\u001b[0m\u001b]8;;\u001b\\\u001b[2m:89\u001b[0m\n",
            "\u001b[34mINFO\u001b[0m      Downloading \u001b[1;34m1\u001b[0m singularity container                    \u001b]8;id=1604515182.421168-454576;file:///usr/local/lib/python3.6/dist-packages/nf_core/download.py\u001b\\\u001b[2mdownload.py\u001b[0m\u001b]8;;\u001b\\\u001b[2m:103\u001b[0m\n",
            "\u001b[34mINFO\u001b[0m      Building singularity image from Docker Hub:            \u001b]8;id=1604515182.4235916-853302;file:///usr/local/lib/python3.6/dist-packages/nf_core/download.py\u001b\\\u001b[2mdownload.py\u001b[0m\u001b]8;;\u001b\\\u001b[2m:279\u001b[0m\n",
            "          docker:\u001b[35m/\u001b[0m\u001b[35m/nfcore/\u001b[0m\u001b[95mrnaseq\u001b[0m:\u001b[1;34m1.4\u001b[0m.\u001b[1;34m2\u001b[0m                                          \n",
            "\u001b[1;31mERROR\u001b[0m     Singularity is not installed!                          \u001b]8;id=1604515182.4294653-814126;file:///usr/local/lib/python3.6/dist-packages/nf_core/download.py\u001b\\\u001b[2mdownload.py\u001b[0m\u001b]8;;\u001b\\\u001b[2m:288\u001b[0m\n",
            "\u001b[34mINFO\u001b[0m      Compressing download..                                 \u001b]8;id=1604515182.4315429-899609;file:///usr/local/lib/python3.6/dist-packages/nf_core/download.py\u001b\\\u001b[2mdownload.py\u001b[0m\u001b]8;;\u001b\\\u001b[2m:117\u001b[0m\n",
            "\u001b[34mINFO\u001b[0m      Command to extract files: tar -xzf                     \u001b]8;id=1604515182.71996-952622;file:///usr/local/lib/python3.6/dist-packages/nf_core/download.py\u001b\\\u001b[2mdownload.py\u001b[0m\u001b]8;;\u001b\\\u001b[2m:303\u001b[0m\n",
            "          nf-core-rnaseq-\u001b[1;34m1.4\u001b[0m.\u001b[1;34m2.\u001b[0mtar.gz                                           \n",
            "\u001b[34mINFO\u001b[0m      MD5 checksum for nf-core-rnaseq-\u001b[1;34m1.4\u001b[0m.\u001b[1;34m2.\u001b[0mtar.gz:          \u001b]8;id=1604515182.7385392-473446;file:///usr/local/lib/python3.6/dist-packages/nf_core/download.py\u001b\\\u001b[2mdownload.py\u001b[0m\u001b]8;;\u001b\\\u001b[2m:344\u001b[0m\n",
            "          0af72642bef45b64676aa8accd48789f                                      \n"
          ],
          "name": "stdout"
        }
      ]
    },
    {
      "cell_type": "code",
      "metadata": {
        "id": "-SBDeYiiZN52",
        "outputId": "0199b6bb-f021-43ef-928c-f1ac5ef8b05e",
        "colab": {
          "base_uri": "https://localhost:8080/",
          "height": 17
        }
      },
      "source": [
        "from google.colab import files\n",
        "files.download(\"nf-core-rnaseq-1.4.2.tar.gz\")"
      ],
      "execution_count": 8,
      "outputs": [
        {
          "output_type": "display_data",
          "data": {
            "application/javascript": [
              "\n",
              "    async function download(id, filename, size) {\n",
              "      if (!google.colab.kernel.accessAllowed) {\n",
              "        return;\n",
              "      }\n",
              "      const div = document.createElement('div');\n",
              "      const label = document.createElement('label');\n",
              "      label.textContent = `Downloading \"${filename}\": `;\n",
              "      div.appendChild(label);\n",
              "      const progress = document.createElement('progress');\n",
              "      progress.max = size;\n",
              "      div.appendChild(progress);\n",
              "      document.body.appendChild(div);\n",
              "\n",
              "      const buffers = [];\n",
              "      let downloaded = 0;\n",
              "\n",
              "      const channel = await google.colab.kernel.comms.open(id);\n",
              "      // Send a message to notify the kernel that we're ready.\n",
              "      channel.send({})\n",
              "\n",
              "      for await (const message of channel.messages) {\n",
              "        // Send a message to notify the kernel that we're ready.\n",
              "        channel.send({})\n",
              "        if (message.buffers) {\n",
              "          for (const buffer of message.buffers) {\n",
              "            buffers.push(buffer);\n",
              "            downloaded += buffer.byteLength;\n",
              "            progress.value = downloaded;\n",
              "          }\n",
              "        }\n",
              "      }\n",
              "      const blob = new Blob(buffers, {type: 'application/binary'});\n",
              "      const a = document.createElement('a');\n",
              "      a.href = window.URL.createObjectURL(blob);\n",
              "      a.download = filename;\n",
              "      div.appendChild(a);\n",
              "      a.click();\n",
              "      div.remove();\n",
              "    }\n",
              "  "
            ],
            "text/plain": [
              "<IPython.core.display.Javascript object>"
            ]
          },
          "metadata": {
            "tags": []
          }
        },
        {
          "output_type": "display_data",
          "data": {
            "application/javascript": [
              "download(\"download_7d43fec6-9edd-409b-a14e-639d5900b538\", \"nf-core-rnaseq-1.4.2.tar.gz\", 4007326)"
            ],
            "text/plain": [
              "<IPython.core.display.Javascript object>"
            ]
          },
          "metadata": {
            "tags": []
          }
        }
      ]
    }
  ]
}